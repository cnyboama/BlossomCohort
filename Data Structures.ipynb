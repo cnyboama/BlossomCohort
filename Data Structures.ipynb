{
 "cells": [
  {
   "cell_type": "markdown",
   "id": "7dd8d3f0",
   "metadata": {},
   "source": [
    "### Data Structures"
   ]
  },
  {
   "cell_type": "markdown",
   "id": "4e14e478",
   "metadata": {},
   "source": [
    "The basic data structure in Python are:\n",
    "\n",
    "- List\n",
    "- Tuple\n",
    "- Sets\n",
    "- Dictionary"
   ]
  },
  {
   "cell_type": "markdown",
   "id": "78ce5fdf",
   "metadata": {},
   "source": [
    "### List"
   ]
  },
  {
   "cell_type": "markdown",
   "id": "55aa9237",
   "metadata": {},
   "source": [
    "- List is an ordered and mutable data sturcture that can hold different data types or data sturcture.\n",
    "\n",
    "- Lists are defined by list() or [] and items within the list are separated by comma\n",
    "\n",
    "- Items in a list are accessed by its index.\n",
    "\n",
    "- The index of the first item in a list is 0 and the index of the last item in a list is -1.\n",
    "\n",
    "- List can be sliced to select a group of items from the list."
   ]
  },
  {
   "cell_type": "code",
   "execution_count": 1,
   "id": "c7e93fe9",
   "metadata": {},
   "outputs": [],
   "source": [
    "empty_list = list()"
   ]
  },
  {
   "cell_type": "code",
   "execution_count": 2,
   "id": "327340ab",
   "metadata": {},
   "outputs": [
    {
     "data": {
      "text/plain": [
       "[]"
      ]
     },
     "execution_count": 2,
     "metadata": {},
     "output_type": "execute_result"
    }
   ],
   "source": [
    "empty_list"
   ]
  },
  {
   "cell_type": "code",
   "execution_count": 3,
   "id": "33424978",
   "metadata": {},
   "outputs": [
    {
     "data": {
      "text/plain": [
       "list"
      ]
     },
     "execution_count": 3,
     "metadata": {},
     "output_type": "execute_result"
    }
   ],
   "source": [
    "type(empty_list)"
   ]
  },
  {
   "cell_type": "code",
   "execution_count": 4,
   "id": "8fe0009a",
   "metadata": {},
   "outputs": [],
   "source": [
    "numbers_list = [1,2,3,4,5]\n",
    "string_list = [\"W\",\"X\",\"Y\",\"Z\"]\n",
    "mixed_list = ['w', 2, True, \"Y\"]\n",
    "list_in_list = [1,3,[\"a\",\"b\",\"c\"], 5]"
   ]
  },
  {
   "cell_type": "code",
   "execution_count": 5,
   "id": "f61c6504",
   "metadata": {},
   "outputs": [
    {
     "data": {
      "text/plain": [
       "[1, 3, ['a', 'b', 'c'], 5]"
      ]
     },
     "execution_count": 5,
     "metadata": {},
     "output_type": "execute_result"
    }
   ],
   "source": [
    "list_in_list"
   ]
  },
  {
   "cell_type": "code",
   "execution_count": 6,
   "id": "baa80485",
   "metadata": {},
   "outputs": [
    {
     "data": {
      "text/plain": [
       "1"
      ]
     },
     "execution_count": 6,
     "metadata": {},
     "output_type": "execute_result"
    }
   ],
   "source": [
    "#Get the first item from list_in_list\n",
    "list_in_list[0]"
   ]
  },
  {
   "cell_type": "code",
   "execution_count": 7,
   "id": "aef0cea0",
   "metadata": {},
   "outputs": [
    {
     "data": {
      "text/plain": [
       "5"
      ]
     },
     "execution_count": 7,
     "metadata": {},
     "output_type": "execute_result"
    }
   ],
   "source": [
    "#Get the last item from list_in_list\n",
    "list_in_list[-1]"
   ]
  },
  {
   "cell_type": "code",
   "execution_count": 8,
   "id": "eee97a0f",
   "metadata": {},
   "outputs": [
    {
     "data": {
      "text/plain": [
       "['a', 'b', 'c']"
      ]
     },
     "execution_count": 8,
     "metadata": {},
     "output_type": "execute_result"
    }
   ],
   "source": [
    "#Get the third item from list_in_list\n",
    "list_in_list[2]"
   ]
  },
  {
   "cell_type": "code",
   "execution_count": 9,
   "id": "a3ae6c4a",
   "metadata": {},
   "outputs": [
    {
     "data": {
      "text/plain": [
       "'b'"
      ]
     },
     "execution_count": 9,
     "metadata": {},
     "output_type": "execute_result"
    }
   ],
   "source": [
    "#Get the second item from the third item in  list_in_list\n",
    "list_in_list[2][1]"
   ]
  },
  {
   "cell_type": "code",
   "execution_count": 10,
   "id": "be7c03c8",
   "metadata": {},
   "outputs": [
    {
     "data": {
      "text/plain": [
       "'b'"
      ]
     },
     "execution_count": 10,
     "metadata": {},
     "output_type": "execute_result"
    }
   ],
   "source": [
    "list_in_list[2][1]"
   ]
  },
  {
   "cell_type": "code",
   "execution_count": 11,
   "id": "ffb6db71",
   "metadata": {},
   "outputs": [
    {
     "data": {
      "text/plain": [
       "['w', 2, True, 'Y']"
      ]
     },
     "execution_count": 11,
     "metadata": {},
     "output_type": "execute_result"
    }
   ],
   "source": [
    "mixed_list"
   ]
  },
  {
   "cell_type": "code",
   "execution_count": 12,
   "id": "9d9e2c24",
   "metadata": {},
   "outputs": [
    {
     "data": {
      "text/plain": [
       "['w', 2, False, 'Y']"
      ]
     },
     "execution_count": 12,
     "metadata": {},
     "output_type": "execute_result"
    }
   ],
   "source": [
    "#Changing True to False in mixed_list\n",
    "mixed_list[2] = False\n",
    "mixed_list"
   ]
  },
  {
   "cell_type": "markdown",
   "id": "8021cb29",
   "metadata": {},
   "source": [
    "### Methods of List"
   ]
  },
  {
   "cell_type": "markdown",
   "id": "d6058d91",
   "metadata": {},
   "source": [
    "|Method||Meaning|\n",
    "|----||----|\n",
    "|append(x)||Add an item to the end of the list|\n",
    "|insert(a,b)||Add an item b to the position index a in the list|\n",
    "|pop()||Removes and print out the last element of a list|\n",
    "|pop(a)|| Remove and print out the item at index a of a list|\n",
    "|remove(a)||Remove the first item from the list whose value is equal to a|\n",
    "|extend(iterable)||Adds multiple elements to a list from an iterable|\n",
    "|reverse()|| Reverses the order of the items in the list|\n",
    "|clear()|| Removes all items from the list|\n",
    "|max()|| Returns the maximum value in a list|\n",
    "|min()|| Returns the minimum value in a list|\n",
    "|sum()|| Returns the sum of all elements in the list|\n",
    "|split()|| Splits a string into a list, based on a specific delimiter|\n",
    "|join()|| Concatenates the elements of a list into a string, separated by a specified delimiter|\n"
   ]
  },
  {
   "cell_type": "code",
   "execution_count": 13,
   "id": "d326ccdc",
   "metadata": {},
   "outputs": [
    {
     "data": {
      "text/plain": [
       "[1, 2, 3, 4, 5]"
      ]
     },
     "execution_count": 13,
     "metadata": {},
     "output_type": "execute_result"
    }
   ],
   "source": [
    "numbers_list"
   ]
  },
  {
   "cell_type": "code",
   "execution_count": 14,
   "id": "77a9b1cc",
   "metadata": {},
   "outputs": [
    {
     "data": {
      "text/plain": [
       "[1, 2, 3, 4, 5, 6]"
      ]
     },
     "execution_count": 14,
     "metadata": {},
     "output_type": "execute_result"
    }
   ],
   "source": [
    "numbers_list.append(6)\n",
    "numbers_list"
   ]
  },
  {
   "cell_type": "code",
   "execution_count": 15,
   "id": "5f43ccf4",
   "metadata": {},
   "outputs": [],
   "source": [
    "numbers_list.insert(0,0)"
   ]
  },
  {
   "cell_type": "code",
   "execution_count": 16,
   "id": "57e745e1",
   "metadata": {},
   "outputs": [
    {
     "data": {
      "text/plain": [
       "[0, 1, 2, 3, 4, 5, 6]"
      ]
     },
     "execution_count": 16,
     "metadata": {},
     "output_type": "execute_result"
    }
   ],
   "source": [
    "numbers_list"
   ]
  },
  {
   "cell_type": "code",
   "execution_count": 17,
   "id": "58fdc1cd",
   "metadata": {},
   "outputs": [
    {
     "data": {
      "text/plain": [
       "6"
      ]
     },
     "execution_count": 17,
     "metadata": {},
     "output_type": "execute_result"
    }
   ],
   "source": [
    "numbers_list.pop()"
   ]
  },
  {
   "cell_type": "code",
   "execution_count": 18,
   "id": "e785e6d6",
   "metadata": {},
   "outputs": [
    {
     "data": {
      "text/plain": [
       "[0, 1, 2, 3, 4, 5]"
      ]
     },
     "execution_count": 18,
     "metadata": {},
     "output_type": "execute_result"
    }
   ],
   "source": [
    "numbers_list"
   ]
  },
  {
   "cell_type": "code",
   "execution_count": 19,
   "id": "199e8ea2",
   "metadata": {},
   "outputs": [
    {
     "data": {
      "text/plain": [
       "0"
      ]
     },
     "execution_count": 19,
     "metadata": {},
     "output_type": "execute_result"
    }
   ],
   "source": [
    "numbers_list.pop(0)"
   ]
  },
  {
   "cell_type": "code",
   "execution_count": 20,
   "id": "8f41dedc",
   "metadata": {},
   "outputs": [
    {
     "data": {
      "text/plain": [
       "[1, 2, 3, 4, 5]"
      ]
     },
     "execution_count": 20,
     "metadata": {},
     "output_type": "execute_result"
    }
   ],
   "source": [
    "numbers_list"
   ]
  },
  {
   "cell_type": "code",
   "execution_count": 21,
   "id": "ae031372",
   "metadata": {},
   "outputs": [],
   "source": [
    "numbers_list.remove(3)"
   ]
  },
  {
   "cell_type": "code",
   "execution_count": 22,
   "id": "5b5e5fe7",
   "metadata": {},
   "outputs": [
    {
     "data": {
      "text/plain": [
       "[1, 2, 4, 5]"
      ]
     },
     "execution_count": 22,
     "metadata": {},
     "output_type": "execute_result"
    }
   ],
   "source": [
    "numbers_list"
   ]
  },
  {
   "cell_type": "code",
   "execution_count": 23,
   "id": "f7f0ed13",
   "metadata": {},
   "outputs": [],
   "source": [
    "numbers_list.extend([6,7,8])"
   ]
  },
  {
   "cell_type": "code",
   "execution_count": 24,
   "id": "634f28be",
   "metadata": {},
   "outputs": [
    {
     "data": {
      "text/plain": [
       "[1, 2, 4, 5, 6, 7, 8]"
      ]
     },
     "execution_count": 24,
     "metadata": {},
     "output_type": "execute_result"
    }
   ],
   "source": [
    "numbers_list"
   ]
  },
  {
   "cell_type": "code",
   "execution_count": 25,
   "id": "f2eee435",
   "metadata": {},
   "outputs": [],
   "source": [
    "numbers_list.reverse()"
   ]
  },
  {
   "cell_type": "code",
   "execution_count": 26,
   "id": "d41d43f5",
   "metadata": {},
   "outputs": [
    {
     "data": {
      "text/plain": [
       "[8, 7, 6, 5, 4, 2, 1]"
      ]
     },
     "execution_count": 26,
     "metadata": {},
     "output_type": "execute_result"
    }
   ],
   "source": [
    "numbers_list"
   ]
  },
  {
   "cell_type": "code",
   "execution_count": 27,
   "id": "90d495e3",
   "metadata": {},
   "outputs": [],
   "source": [
    "numbers_list.clear()"
   ]
  },
  {
   "cell_type": "code",
   "execution_count": 28,
   "id": "3c691708",
   "metadata": {},
   "outputs": [
    {
     "data": {
      "text/plain": [
       "[]"
      ]
     },
     "execution_count": 28,
     "metadata": {},
     "output_type": "execute_result"
    }
   ],
   "source": [
    "numbers_list"
   ]
  },
  {
   "cell_type": "code",
   "execution_count": 29,
   "id": "2103b9f7",
   "metadata": {},
   "outputs": [],
   "source": [
    "scores = [22,33,4,12,44]"
   ]
  },
  {
   "cell_type": "code",
   "execution_count": 30,
   "id": "201a64b6",
   "metadata": {},
   "outputs": [
    {
     "data": {
      "text/plain": [
       "5"
      ]
     },
     "execution_count": 30,
     "metadata": {},
     "output_type": "execute_result"
    }
   ],
   "source": [
    "len(scores)"
   ]
  },
  {
   "cell_type": "code",
   "execution_count": 31,
   "id": "f8e773e6",
   "metadata": {},
   "outputs": [
    {
     "data": {
      "text/plain": [
       "115"
      ]
     },
     "execution_count": 31,
     "metadata": {},
     "output_type": "execute_result"
    }
   ],
   "source": [
    "### Calculte the sum of the score list\n",
    "sum(scores)"
   ]
  },
  {
   "cell_type": "code",
   "execution_count": 32,
   "id": "dafe78e4",
   "metadata": {},
   "outputs": [
    {
     "data": {
      "text/plain": [
       "44"
      ]
     },
     "execution_count": 32,
     "metadata": {},
     "output_type": "execute_result"
    }
   ],
   "source": [
    "max(scores)"
   ]
  },
  {
   "cell_type": "code",
   "execution_count": 33,
   "id": "9447a169",
   "metadata": {},
   "outputs": [
    {
     "data": {
      "text/plain": [
       "4"
      ]
     },
     "execution_count": 33,
     "metadata": {},
     "output_type": "execute_result"
    }
   ],
   "source": [
    "min(scores)"
   ]
  },
  {
   "cell_type": "code",
   "execution_count": 34,
   "id": "2e3144e0",
   "metadata": {},
   "outputs": [],
   "source": [
    "names = [\"Kofi\", \"Kwaku\", \"Kwame\",\"Kojo\"]"
   ]
  },
  {
   "cell_type": "code",
   "execution_count": 35,
   "id": "f923f1e1",
   "metadata": {},
   "outputs": [
    {
     "data": {
      "text/plain": [
       "['Kofi', 'Kwaku', 'Kwame', 'Kojo']"
      ]
     },
     "execution_count": 35,
     "metadata": {},
     "output_type": "execute_result"
    }
   ],
   "source": [
    "names"
   ]
  },
  {
   "cell_type": "code",
   "execution_count": 36,
   "id": "676db454",
   "metadata": {},
   "outputs": [
    {
     "data": {
      "text/plain": [
       "'Kofi and Kwaku and Kwame and Kojo'"
      ]
     },
     "execution_count": 36,
     "metadata": {},
     "output_type": "execute_result"
    }
   ],
   "source": [
    "\" and \".join(names)"
   ]
  },
  {
   "cell_type": "code",
   "execution_count": 37,
   "id": "aa9ac242",
   "metadata": {},
   "outputs": [
    {
     "data": {
      "text/plain": [
       "'Kofi, Kwaku, Kwame, Kojo'"
      ]
     },
     "execution_count": 37,
     "metadata": {},
     "output_type": "execute_result"
    }
   ],
   "source": [
    "names_with_joins =\", \".join(names)\n",
    "names_with_joins"
   ]
  },
  {
   "cell_type": "code",
   "execution_count": 38,
   "id": "3966d2e9",
   "metadata": {},
   "outputs": [
    {
     "data": {
      "text/plain": [
       "['Kofi', ' Kwaku', ' Kwame', ' Kojo']"
      ]
     },
     "execution_count": 38,
     "metadata": {},
     "output_type": "execute_result"
    }
   ],
   "source": [
    "names_with_joins.split(\",\")"
   ]
  },
  {
   "cell_type": "markdown",
   "id": "c2d42028",
   "metadata": {},
   "source": [
    "### Membership Operators\n",
    "\n",
    "- These operartors are used to check if an item is found in a data structure.\n",
    "\n",
    "- The return output is a boolean(True or False).\n",
    "\n",
    "They include:\n",
    " \n",
    "**in** - Used to check whether an element is in a data sturcture.\n",
    "\n",
    "**not in** - Used to check whether an element is in a data sturcture.\n"
   ]
  },
  {
   "cell_type": "code",
   "execution_count": 39,
   "id": "bd2c7050",
   "metadata": {},
   "outputs": [
    {
     "data": {
      "text/plain": [
       "['pencil', 'eraser', 'ruler']"
      ]
     },
     "execution_count": 39,
     "metadata": {},
     "output_type": "execute_result"
    }
   ],
   "source": [
    "stationery = [\"pencil\", \"eraser\", \"ruler\"]\n",
    "stationery"
   ]
  },
  {
   "cell_type": "code",
   "execution_count": 40,
   "id": "b793a067",
   "metadata": {},
   "outputs": [
    {
     "data": {
      "text/plain": [
       "True"
      ]
     },
     "execution_count": 40,
     "metadata": {},
     "output_type": "execute_result"
    }
   ],
   "source": [
    "#Check if pencil in stationery\n",
    "\"pencil\" in stationery"
   ]
  },
  {
   "cell_type": "code",
   "execution_count": 41,
   "id": "d927ff8b",
   "metadata": {},
   "outputs": [
    {
     "data": {
      "text/plain": [
       "True"
      ]
     },
     "execution_count": 41,
     "metadata": {},
     "output_type": "execute_result"
    }
   ],
   "source": [
    "#Check if pen not in stationery\n",
    "\"pen\" not in stationery"
   ]
  },
  {
   "cell_type": "markdown",
   "id": "d02c0947",
   "metadata": {},
   "source": [
    "Check out more functions on list from the python documentation [here](https://docs.python.org/3/tutorial/datastructures.html)"
   ]
  },
  {
   "cell_type": "code",
   "execution_count": null,
   "id": "5d7a9de2",
   "metadata": {},
   "outputs": [],
   "source": []
  },
  {
   "cell_type": "markdown",
   "id": "082b33ae",
   "metadata": {},
   "source": [
    "### Tuples"
   ]
  },
  {
   "cell_type": "markdown",
   "id": "8edf2868",
   "metadata": {},
   "source": [
    "Tuples are ordered and immutable data structure which can hold different data types or data structures.\n",
    "\n",
    "They are immutable because items cannot be added ore removed once the tuple is created.\n",
    "\n",
    "Tuples are created using **()** or **tuple()**."
   ]
  },
  {
   "cell_type": "code",
   "execution_count": 42,
   "id": "71d4dd44",
   "metadata": {},
   "outputs": [],
   "source": [
    "tup  =()"
   ]
  },
  {
   "cell_type": "code",
   "execution_count": 43,
   "id": "82a04e34",
   "metadata": {},
   "outputs": [
    {
     "data": {
      "text/plain": [
       "tuple"
      ]
     },
     "execution_count": 43,
     "metadata": {},
     "output_type": "execute_result"
    }
   ],
   "source": [
    "type(tup)"
   ]
  },
  {
   "cell_type": "code",
   "execution_count": 44,
   "id": "aacb6270",
   "metadata": {},
   "outputs": [],
   "source": [
    "tup_1 = tuple((1,2,3,4,3))"
   ]
  },
  {
   "cell_type": "code",
   "execution_count": 45,
   "id": "140428cc",
   "metadata": {},
   "outputs": [
    {
     "data": {
      "text/plain": [
       "(1, 2, 3, 4, 3)"
      ]
     },
     "execution_count": 45,
     "metadata": {},
     "output_type": "execute_result"
    }
   ],
   "source": [
    "tup_1"
   ]
  },
  {
   "cell_type": "code",
   "execution_count": 46,
   "id": "e8183d9d",
   "metadata": {},
   "outputs": [
    {
     "data": {
      "text/plain": [
       "5"
      ]
     },
     "execution_count": 46,
     "metadata": {},
     "output_type": "execute_result"
    }
   ],
   "source": [
    "#length of tup_1\n",
    "len(tup_1)"
   ]
  },
  {
   "cell_type": "code",
   "execution_count": 47,
   "id": "52e7aa42",
   "metadata": {},
   "outputs": [
    {
     "data": {
      "text/plain": [
       "1"
      ]
     },
     "execution_count": 47,
     "metadata": {},
     "output_type": "execute_result"
    }
   ],
   "source": [
    "#Accessing the first item in tup_1\n",
    "tup_1[0]"
   ]
  },
  {
   "cell_type": "code",
   "execution_count": 48,
   "id": "e761824a",
   "metadata": {},
   "outputs": [
    {
     "data": {
      "text/plain": [
       "(1, 2, 3)"
      ]
     },
     "execution_count": 48,
     "metadata": {},
     "output_type": "execute_result"
    }
   ],
   "source": [
    "#Accessing the first three items in tup_1\n",
    "tup_1[0:3]"
   ]
  },
  {
   "cell_type": "code",
   "execution_count": 49,
   "id": "baaa4d63",
   "metadata": {},
   "outputs": [
    {
     "data": {
      "text/plain": [
       "3"
      ]
     },
     "execution_count": 49,
     "metadata": {},
     "output_type": "execute_result"
    }
   ],
   "source": [
    "#Accessing the last item in tup_1\n",
    "tup_1[-1]"
   ]
  },
  {
   "cell_type": "code",
   "execution_count": 50,
   "id": "56ccde5b",
   "metadata": {},
   "outputs": [
    {
     "data": {
      "text/plain": [
       "False"
      ]
     },
     "execution_count": 50,
     "metadata": {},
     "output_type": "execute_result"
    }
   ],
   "source": [
    "#Check if 5 in tup_1\n",
    "5 in tup_1"
   ]
  },
  {
   "cell_type": "code",
   "execution_count": 51,
   "id": "d446b87a",
   "metadata": {},
   "outputs": [
    {
     "data": {
      "text/plain": [
       "True"
      ]
     },
     "execution_count": 51,
     "metadata": {},
     "output_type": "execute_result"
    }
   ],
   "source": [
    "#Check if 3 in tup_1\n",
    "3 in tup_1"
   ]
  },
  {
   "cell_type": "markdown",
   "id": "be193e80",
   "metadata": {},
   "source": [
    "**count()** function count the number of times an element appear in a tuple.\n",
    "\n",
    "**index()** It returns the index of the first occurence of an element in the tuple"
   ]
  },
  {
   "cell_type": "code",
   "execution_count": 52,
   "id": "bf44920b",
   "metadata": {},
   "outputs": [
    {
     "data": {
      "text/plain": [
       "1"
      ]
     },
     "execution_count": 52,
     "metadata": {},
     "output_type": "execute_result"
    }
   ],
   "source": [
    "\n",
    "tup_1.count(2)"
   ]
  },
  {
   "cell_type": "markdown",
   "id": "320a7739",
   "metadata": {},
   "source": []
  },
  {
   "cell_type": "code",
   "execution_count": 53,
   "id": "e4ee8ed5",
   "metadata": {},
   "outputs": [
    {
     "data": {
      "text/plain": [
       "2"
      ]
     },
     "execution_count": 53,
     "metadata": {},
     "output_type": "execute_result"
    }
   ],
   "source": [
    "tup_1.index(3)"
   ]
  },
  {
   "cell_type": "code",
   "execution_count": 54,
   "id": "bd02f07f",
   "metadata": {},
   "outputs": [
    {
     "data": {
      "text/plain": [
       "[1, 2, 3, 4, 3]"
      ]
     },
     "execution_count": 54,
     "metadata": {},
     "output_type": "execute_result"
    }
   ],
   "source": [
    "#Convert a tuple to a list\n",
    "list(tup_1)"
   ]
  },
  {
   "cell_type": "markdown",
   "id": "776207db",
   "metadata": {},
   "source": [
    "### Set"
   ]
  },
  {
   "cell_type": "markdown",
   "id": "8943c0ac",
   "metadata": {},
   "source": [
    "Sets are unordered and mutable data structure which store collections of unique elements(do not allow duplicates of elements).\n",
    "\n",
    "They are created using **{}** or **set()** function."
   ]
  },
  {
   "cell_type": "code",
   "execution_count": 55,
   "id": "f6419658",
   "metadata": {},
   "outputs": [
    {
     "data": {
      "text/plain": [
       "[1, 23, 3, 3, 4, 5, 2, 1]"
      ]
     },
     "execution_count": 55,
     "metadata": {},
     "output_type": "execute_result"
    }
   ],
   "source": [
    "list_numbers = [1,23,3,3,4,5,2,1]\n",
    "list_numbers"
   ]
  },
  {
   "cell_type": "code",
   "execution_count": 56,
   "id": "0a1779f7",
   "metadata": {},
   "outputs": [
    {
     "data": {
      "text/plain": [
       "{1, 2, 3, 4, 5, 23}"
      ]
     },
     "execution_count": 56,
     "metadata": {},
     "output_type": "execute_result"
    }
   ],
   "source": [
    "set_numbers = set(list_numbers)\n",
    "set_numbers"
   ]
  },
  {
   "cell_type": "code",
   "execution_count": 57,
   "id": "9d5de1dc",
   "metadata": {},
   "outputs": [
    {
     "data": {
      "text/plain": [
       "{1, 2, 3, 4, 5, 9, 23}"
      ]
     },
     "execution_count": 57,
     "metadata": {},
     "output_type": "execute_result"
    }
   ],
   "source": [
    "# Add a 9 to set_numbers\n",
    "set_numbers.add(9)\n",
    "set_numbers"
   ]
  },
  {
   "cell_type": "code",
   "execution_count": 58,
   "id": "299c885c",
   "metadata": {},
   "outputs": [
    {
     "data": {
      "text/plain": [
       "{1, 2, 3, 4, 5, 9, 23}"
      ]
     },
     "execution_count": 58,
     "metadata": {},
     "output_type": "execute_result"
    }
   ],
   "source": [
    "set_numbers"
   ]
  },
  {
   "cell_type": "code",
   "execution_count": 59,
   "id": "54b5b290",
   "metadata": {},
   "outputs": [
    {
     "data": {
      "text/plain": [
       "1"
      ]
     },
     "execution_count": 59,
     "metadata": {},
     "output_type": "execute_result"
    }
   ],
   "source": [
    "#Remove the first element in a set\n",
    "set_numbers.pop()"
   ]
  },
  {
   "cell_type": "code",
   "execution_count": 60,
   "id": "458e80d4",
   "metadata": {},
   "outputs": [
    {
     "data": {
      "text/plain": [
       "{2, 3, 4, 5, 9, 23}"
      ]
     },
     "execution_count": 60,
     "metadata": {},
     "output_type": "execute_result"
    }
   ],
   "source": [
    "set_numbers"
   ]
  },
  {
   "cell_type": "markdown",
   "id": "54098991",
   "metadata": {},
   "source": [
    "**remove()**: Used to remove a particular item from a set"
   ]
  },
  {
   "cell_type": "code",
   "execution_count": 61,
   "id": "68c39937",
   "metadata": {},
   "outputs": [],
   "source": [
    "#Remove 5 from the set_numbers"
   ]
  },
  {
   "cell_type": "code",
   "execution_count": 62,
   "id": "c283d833",
   "metadata": {},
   "outputs": [],
   "source": [
    "set_numbers.remove(5)"
   ]
  },
  {
   "cell_type": "code",
   "execution_count": 63,
   "id": "d26cab6c",
   "metadata": {},
   "outputs": [
    {
     "data": {
      "text/plain": [
       "{2, 3, 4, 9, 23}"
      ]
     },
     "execution_count": 63,
     "metadata": {},
     "output_type": "execute_result"
    }
   ],
   "source": [
    "set_numbers"
   ]
  },
  {
   "cell_type": "markdown",
   "id": "2f8971b5",
   "metadata": {},
   "source": [
    "**clear()**: Used to clear all elements from a set"
   ]
  },
  {
   "cell_type": "code",
   "execution_count": 64,
   "id": "99f496ab",
   "metadata": {},
   "outputs": [],
   "source": [
    "set_numbers.clear()"
   ]
  },
  {
   "cell_type": "code",
   "execution_count": 65,
   "id": "51396edf",
   "metadata": {},
   "outputs": [
    {
     "data": {
      "text/plain": [
       "0"
      ]
     },
     "execution_count": 65,
     "metadata": {},
     "output_type": "execute_result"
    }
   ],
   "source": [
    "len(set_numbers)"
   ]
  },
  {
   "cell_type": "markdown",
   "id": "c3655113",
   "metadata": {},
   "source": [
    "### Set Operations"
   ]
  },
  {
   "cell_type": "code",
   "execution_count": 66,
   "id": "4271bdec",
   "metadata": {},
   "outputs": [],
   "source": [
    "A = {1,2,3,4,5,6}\n",
    "B={2,4,6,8,10}"
   ]
  },
  {
   "cell_type": "markdown",
   "id": "80ced431",
   "metadata": {},
   "source": [
    "**union()** : This method returns a new set with distinct elements from all the sets. The operator **|** is used to represent union operation.\n",
    "\n",
    "**intersection()**: This method returns the common items among two or more sets. The operator **&** represent the intersection operation\n",
    "\n",
    "**difference**: This returns a set of difference of two or more sets."
   ]
  },
  {
   "cell_type": "code",
   "execution_count": 67,
   "id": "c92e9d82",
   "metadata": {},
   "outputs": [
    {
     "data": {
      "text/plain": [
       "{1, 2, 3, 4, 5, 6, 8, 10}"
      ]
     },
     "execution_count": 67,
     "metadata": {},
     "output_type": "execute_result"
    }
   ],
   "source": [
    "A.union(B)"
   ]
  },
  {
   "cell_type": "code",
   "execution_count": 68,
   "id": "da234aae",
   "metadata": {},
   "outputs": [
    {
     "data": {
      "text/plain": [
       "{1, 2, 3, 4, 5, 6, 8, 10}"
      ]
     },
     "execution_count": 68,
     "metadata": {},
     "output_type": "execute_result"
    }
   ],
   "source": [
    "A|B"
   ]
  },
  {
   "cell_type": "code",
   "execution_count": 69,
   "id": "bcbb2eee",
   "metadata": {},
   "outputs": [
    {
     "data": {
      "text/plain": [
       "{2, 4, 6}"
      ]
     },
     "execution_count": 69,
     "metadata": {},
     "output_type": "execute_result"
    }
   ],
   "source": [
    "# Intersection\n",
    "A.intersection(B)"
   ]
  },
  {
   "cell_type": "code",
   "execution_count": 70,
   "id": "54c0c6bd",
   "metadata": {},
   "outputs": [
    {
     "data": {
      "text/plain": [
       "{2, 4, 6}"
      ]
     },
     "execution_count": 70,
     "metadata": {},
     "output_type": "execute_result"
    }
   ],
   "source": [
    "A&B"
   ]
  },
  {
   "cell_type": "code",
   "execution_count": 71,
   "id": "6b469fdd",
   "metadata": {},
   "outputs": [
    {
     "data": {
      "text/plain": [
       "{1, 3, 5}"
      ]
     },
     "execution_count": 71,
     "metadata": {},
     "output_type": "execute_result"
    }
   ],
   "source": [
    "A.difference(B)"
   ]
  },
  {
   "cell_type": "code",
   "execution_count": 72,
   "id": "b286e191",
   "metadata": {},
   "outputs": [
    {
     "data": {
      "text/plain": [
       "{8, 10}"
      ]
     },
     "execution_count": 72,
     "metadata": {},
     "output_type": "execute_result"
    }
   ],
   "source": [
    "B.difference(A)"
   ]
  },
  {
   "cell_type": "code",
   "execution_count": null,
   "id": "29eaf1b0",
   "metadata": {},
   "outputs": [],
   "source": []
  },
  {
   "cell_type": "markdown",
   "id": "38973f85",
   "metadata": {},
   "source": [
    "### Dictionary"
   ]
  },
  {
   "cell_type": "markdown",
   "id": "f0286a99",
   "metadata": {},
   "source": [
    "Dictionary is an unordered and mutable data structure that stores mapping of unique key so values.\n",
    "\n",
    "They are created using **{}** or **dict()** and key-value pairs separated by a colon **(:)** .\n",
    "\n",
    "The keys of the dictionary must be **immutable** data type or structure examples strings, tuples."
   ]
  },
  {
   "cell_type": "code",
   "execution_count": null,
   "id": "69de6638",
   "metadata": {},
   "outputs": [],
   "source": []
  },
  {
   "cell_type": "code",
   "execution_count": 73,
   "id": "fed7d2e7",
   "metadata": {},
   "outputs": [],
   "source": [
    "shop = {\"Pencil\":25, \"Eraser\":4,\"Ruler\":10,\"Envelope\":24}"
   ]
  },
  {
   "cell_type": "code",
   "execution_count": 74,
   "id": "75fa14a1",
   "metadata": {},
   "outputs": [
    {
     "data": {
      "text/plain": [
       "{'Pencil': 25, 'Eraser': 4, 'Ruler': 10, 'Envelope': 24}"
      ]
     },
     "execution_count": 74,
     "metadata": {},
     "output_type": "execute_result"
    }
   ],
   "source": [
    "shop"
   ]
  },
  {
   "cell_type": "code",
   "execution_count": 75,
   "id": "9320fa19",
   "metadata": {},
   "outputs": [
    {
     "data": {
      "text/plain": [
       "dict"
      ]
     },
     "execution_count": 75,
     "metadata": {},
     "output_type": "execute_result"
    }
   ],
   "source": [
    "type(shop)"
   ]
  },
  {
   "cell_type": "markdown",
   "id": "57eaa412",
   "metadata": {},
   "source": [
    "**items()**: Displays a list of all the key value pairs in the dictionary"
   ]
  },
  {
   "cell_type": "code",
   "execution_count": 80,
   "id": "93c20f8e",
   "metadata": {},
   "outputs": [
    {
     "data": {
      "text/plain": [
       "dict_items([('Pencil', 25), ('Eraser', 4), ('Ruler', 10), ('Envelope', 24)])"
      ]
     },
     "execution_count": 80,
     "metadata": {},
     "output_type": "execute_result"
    }
   ],
   "source": [
    "shop.items()"
   ]
  },
  {
   "cell_type": "code",
   "execution_count": 77,
   "id": "f71f6dc9",
   "metadata": {},
   "outputs": [
    {
     "data": {
      "text/plain": [
       "dict_keys(['Pencil', 'Eraser', 'Ruler', 'Envelope'])"
      ]
     },
     "execution_count": 77,
     "metadata": {},
     "output_type": "execute_result"
    }
   ],
   "source": [
    "#Keys of shop\n",
    "shop.keys()"
   ]
  },
  {
   "cell_type": "code",
   "execution_count": 78,
   "id": "9b96fd44",
   "metadata": {},
   "outputs": [
    {
     "data": {
      "text/plain": [
       "dict_values([25, 4, 10, 24])"
      ]
     },
     "execution_count": 78,
     "metadata": {},
     "output_type": "execute_result"
    }
   ],
   "source": [
    "#Values of shop\n",
    "shop.values()"
   ]
  },
  {
   "cell_type": "code",
   "execution_count": 76,
   "id": "9c5ed197",
   "metadata": {},
   "outputs": [
    {
     "data": {
      "text/plain": [
       "4"
      ]
     },
     "execution_count": 76,
     "metadata": {},
     "output_type": "execute_result"
    }
   ],
   "source": [
    "#Get Quantity of Eraser\n",
    "shop[\"Eraser\"]"
   ]
  },
  {
   "cell_type": "markdown",
   "id": "645028d6",
   "metadata": {},
   "source": [
    "The **get** method id used to get the value of a specific key. If the key is not found it returns the optional default value or returns None if the optional default value is not specified."
   ]
  },
  {
   "cell_type": "code",
   "execution_count": 79,
   "id": "8dbee503",
   "metadata": {},
   "outputs": [
    {
     "data": {
      "text/plain": [
       "4"
      ]
     },
     "execution_count": 79,
     "metadata": {},
     "output_type": "execute_result"
    }
   ],
   "source": [
    "#Get Quantity of Eraser\n",
    "shop.get(\"Eraser\")"
   ]
  },
  {
   "cell_type": "code",
   "execution_count": 84,
   "id": "960fcaeb",
   "metadata": {},
   "outputs": [
    {
     "name": "stdout",
     "output_type": "stream",
     "text": [
      "None\n"
     ]
    }
   ],
   "source": [
    "print(shop.get(\"Pen\"))"
   ]
  },
  {
   "cell_type": "code",
   "execution_count": 85,
   "id": "f37cfd89",
   "metadata": {},
   "outputs": [
    {
     "data": {
      "text/plain": [
       "'Not Available'"
      ]
     },
     "execution_count": 85,
     "metadata": {},
     "output_type": "execute_result"
    }
   ],
   "source": [
    "shop.get(\"Pen\", \"Not Available\")"
   ]
  },
  {
   "cell_type": "code",
   "execution_count": 81,
   "id": "5d20e3e3",
   "metadata": {},
   "outputs": [],
   "source": [
    "#Updating the value of PenciL\n",
    "shop[\"Pencil\"] =20"
   ]
  },
  {
   "cell_type": "code",
   "execution_count": 82,
   "id": "ef9aa075",
   "metadata": {},
   "outputs": [
    {
     "data": {
      "text/plain": [
       "{'Pencil': 20, 'Eraser': 4, 'Ruler': 10, 'Envelope': 24}"
      ]
     },
     "execution_count": 82,
     "metadata": {},
     "output_type": "execute_result"
    }
   ],
   "source": [
    "shop"
   ]
  },
  {
   "cell_type": "code",
   "execution_count": 86,
   "id": "90ff337d",
   "metadata": {},
   "outputs": [],
   "source": [
    "#Removing the key-value from a dictionary\n",
    "del shop[\"Pencil\"]"
   ]
  },
  {
   "cell_type": "code",
   "execution_count": 87,
   "id": "e46d8e29",
   "metadata": {},
   "outputs": [
    {
     "data": {
      "text/plain": [
       "{'Eraser': 4, 'Ruler': 10, 'Envelope': 24}"
      ]
     },
     "execution_count": 87,
     "metadata": {},
     "output_type": "execute_result"
    }
   ],
   "source": [
    "shop"
   ]
  },
  {
   "cell_type": "code",
   "execution_count": null,
   "id": "404850e5",
   "metadata": {},
   "outputs": [],
   "source": []
  }
 ],
 "metadata": {
  "kernelspec": {
   "display_name": "Python 3 (ipykernel)",
   "language": "python",
   "name": "python3"
  },
  "language_info": {
   "codemirror_mode": {
    "name": "ipython",
    "version": 3
   },
   "file_extension": ".py",
   "mimetype": "text/x-python",
   "name": "python",
   "nbconvert_exporter": "python",
   "pygments_lexer": "ipython3",
   "version": "3.9.13"
  }
 },
 "nbformat": 4,
 "nbformat_minor": 5
}
