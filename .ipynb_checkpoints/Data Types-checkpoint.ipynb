{
 "cells": [
  {
   "cell_type": "markdown",
   "id": "1971db0e",
   "metadata": {},
   "source": [
    "### Q1\n",
    "List the basic data types in python and give one example each."
   ]
  },
  {
   "cell_type": "code",
   "execution_count": null,
   "id": "6c25a697",
   "metadata": {},
   "outputs": [],
   "source": [
    "# Integer e.g 89\n",
    "# Float e.g 3.77\n",
    "# String e.g Hello World\n",
    "# Boolean e.g TRUE/FALSE OR YES/NO"
   ]
  },
  {
   "cell_type": "markdown",
   "id": "4a2be5ba",
   "metadata": {},
   "source": [
    "### Q2\n",
    "Change the variable x = 4539.85 to :\n",
    "\n",
    "(i) a string and assign it to a new variable y,\n",
    "\n",
    "(ii) an integer and assign it to a new variable z\n",
    "\n",
    "Print out the type of y and z."
   ]
  },
  {
   "cell_type": "code",
   "execution_count": 4,
   "id": "4f69aaca",
   "metadata": {},
   "outputs": [
    {
     "name": "stdout",
     "output_type": "stream",
     "text": [
      "4539.85 is a float, 4539.85 is a string and 4539 is an integer\n"
     ]
    }
   ],
   "source": [
    "x = 4539.85\n",
    "y = str(x)\n",
    "z = int(x)\n",
    "print(f'{x} is a float, {y} is a string and {z} is an integer')"
   ]
  },
  {
   "cell_type": "markdown",
   "id": "81a1251c",
   "metadata": {},
   "source": [
    "### Q3\n",
    "\n",
    "What data type would you use to store\n",
    "\n",
    "a. The price of car? \n",
    "   Float\n",
    "\n",
    "b. The age of a person\n",
    "   Integer\n",
    "\n",
    "c. car plate number: plateNumber = \"AV01-AFP\"?\n",
    "   String\n",
    "\n",
    "d. The price of fuel\n",
    "   Float\n",
    "\n",
    "e. The number of students in the class\n",
    "   Integer\n",
    "\n",
    "f. The weight of a person\n",
    "   Integer\n",
    "\n",
    "g. Check whether two figures are equal\n",
    "   Boolean\n",
    "\n",
    "i. The name of a  school\n",
    "   String\n",
    "\n",
    "j. The average result of the overall score of a student\n",
    "   Integer\n",
    "\n",
    "k. The total number of vote cast\n",
    "   Integer\n",
    "\n"
   ]
  },
  {
   "cell_type": "markdown",
   "id": "f0694362",
   "metadata": {},
   "source": [
    "### Q4\n",
    "**Thomas Partey is arguably the best player in the Black Stars. He is a great addition to the team**\n",
    "\n",
    "Split the statement above into **two statement_1** and **statement_2** such that statement_1 will be 'Thomas Partey is arguably the best player in the Black Stars' and statement_2 will be 'He is a great addition to the team'\n",
    "\n",
    "Statement:\n",
    "\n",
    "- **What is the length of statment 1?**\n",
    "-**What is the length of statment 2?**\n",
    "-**Is the length of statement 1 greater than statement 2**"
   ]
  },
  {
   "cell_type": "code",
   "execution_count": 5,
   "id": "a512b962",
   "metadata": {},
   "outputs": [
    {
     "name": "stdout",
     "output_type": "stream",
     "text": [
      "60\n",
      "35\n",
      "True\n"
     ]
    }
   ],
   "source": [
    "football = 'Thomas Partey is arguably the best player in the Black Stars. He is a great addition to the team'\n",
    "fBall = football.split('.')\n",
    "fBall\n",
    "statement1 = fBall[0]\n",
    "statement2 = fBall[1]\n",
    "print(len(statement1))\n",
    "print(len(statement2))\n",
    "print(len(statement1)>len(statement2))\n"
   ]
  },
  {
   "cell_type": "markdown",
   "id": "ceb46447",
   "metadata": {},
   "source": [
    "### Q5\n",
    "What values does python use to represent **True** and **False** respectively?"
   ]
  },
  {
   "cell_type": "code",
   "execution_count": null,
   "id": "2112a19e",
   "metadata": {},
   "outputs": [],
   "source": [
    "# true = 1\n",
    "# false = 0"
   ]
  },
  {
   "cell_type": "markdown",
   "id": "e4cc9b15",
   "metadata": {},
   "source": [
    "### Q6\n",
    "Write a code to evaluate if the following statments are True or False.\n",
    "\n",
    "1. 78 is greater than 46 and less than 30 which is an odd number.\n",
    "\n",
    "2. 8-2 is an even number or 8 is a is an odd number.\n",
    "\n",
    "3. The number of characters in the word 'boostrap' is 7 and that of 'sample' is 6."
   ]
  },
  {
   "cell_type": "markdown",
   "id": "bc13f9fc",
   "metadata": {},
   "source": [
    "### Q7\n",
    "Given the following python code,\n",
    "\n",
    "`word='Hello, How are you?'`\n",
    "\n",
    "Write Python code to return the following\n",
    "\n",
    "- How\n",
    "- How are you\n",
    "- are\n",
    "- ?\n",
    "- Hello, How are you\n",
    "\n",
    "\n",
    " "
   ]
  },
  {
   "cell_type": "code",
   "execution_count": 21,
   "id": "ba6828b2",
   "metadata": {},
   "outputs": [
    {
     "data": {
      "text/plain": [
       "'Hello, How are you'"
      ]
     },
     "execution_count": 21,
     "metadata": {},
     "output_type": "execute_result"
    }
   ],
   "source": [
    "word='Hello, How are you?'\n",
    "words = word.split()\n",
    "words\n",
    "words[1]\n",
    "word[7:-1]\n",
    "words[2]\n",
    "word[-1]\n",
    "word[:-1]\n"
   ]
  },
  {
   "cell_type": "markdown",
   "id": "e4167de5",
   "metadata": {},
   "source": [
    "### Q8\n",
    "Given the following python code,\n",
    "\n",
    "`sentence = \"I am very excited\"`\n",
    "\n",
    "Write Python code to return \n",
    "- Convert sentence to upper case\n",
    "- Convert sentence to lower case\n",
    "- Convert sentence to title case\n",
    "- Convert sentence to list of strings\n",
    " "
   ]
  },
  {
   "cell_type": "code",
   "execution_count": null,
   "id": "792fcf92",
   "metadata": {},
   "outputs": [],
   "source": [
    "sentence = \"I am very excited\"\n",
    "upperCase = sentence.upper()\n",
    "lowerCase = sentence.lower()\n",
    "titleCase = sentence.title()\n"
   ]
  },
  {
   "cell_type": "markdown",
   "id": "4faf0134",
   "metadata": {},
   "source": [
    "### Q9\n",
    "`word = 'OneThirtyEight'`\n",
    "\n",
    "Using Python code extract the following from the variable word:\n",
    "- One\n",
    "- Thirty\n",
    "- Eight\n",
    "- OneThirty\n",
    "- ThirtyEight\n",
    "- ONETHIRTYEIGHT"
   ]
  },
  {
   "cell_type": "markdown",
   "id": "2a4eea1f",
   "metadata": {},
   "source": [
    "### Q10\n",
    "Turn Ault'Kelly into a string and assign it to a variable  called name."
   ]
  },
  {
   "cell_type": "code",
   "execution_count": null,
   "id": "aa2f0a08",
   "metadata": {},
   "outputs": [],
   "source": []
  }
 ],
 "metadata": {
  "kernelspec": {
   "display_name": "Python 3 (ipykernel)",
   "language": "python",
   "name": "python3"
  },
  "language_info": {
   "codemirror_mode": {
    "name": "ipython",
    "version": 3
   },
   "file_extension": ".py",
   "mimetype": "text/x-python",
   "name": "python",
   "nbconvert_exporter": "python",
   "pygments_lexer": "ipython3",
   "version": "3.9.13"
  },
  "vscode": {
   "interpreter": {
    "hash": "a6b544173fa88cfcb5cfb62d3a9a10c10f5b20ebdb0bb3a4745eff78acc4cdaa"
   }
  }
 },
 "nbformat": 4,
 "nbformat_minor": 5
}
